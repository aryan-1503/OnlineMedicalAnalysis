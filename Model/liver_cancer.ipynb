{
 "cells": [
  {
   "cell_type": "code",
   "execution_count": 1,
   "id": "initial_id",
   "metadata": {
    "collapsed": true,
    "ExecuteTime": {
     "end_time": "2023-10-04T03:58:46.681301600Z",
     "start_time": "2023-10-04T03:57:52.785793400Z"
    }
   },
   "outputs": [],
   "source": [
    "import pandas as pd\n",
    "import numpy as np \n",
    "import dtale"
   ]
  },
  {
   "cell_type": "code",
   "execution_count": 2,
   "id": "ca571846021a092f",
   "metadata": {
    "ExecuteTime": {
     "end_time": "2023-10-04T03:58:46.749301200Z",
     "start_time": "2023-10-04T03:58:46.681301600Z"
    }
   },
   "outputs": [
    {
     "data": {
      "text/plain": "   index Patient Id  Age  Gender  Air Pollution  Alcohol use  Dust Allergy  \\\n0      0         P1   33       1              2            4             5   \n1      1        P10   17       1              3            1             5   \n2      2       P100   35       1              4            5             6   \n3      3      P1000   37       1              7            7             7   \n4      4       P101   46       1              6            8             7   \n\n   OccuPational Hazards  Genetic Risk  chronic Lung Disease  ...  Fatigue  \\\n0                     4             3                     2  ...        3   \n1                     3             4                     2  ...        1   \n2                     5             5                     4  ...        8   \n3                     7             6                     7  ...        4   \n4                     7             7                     6  ...        3   \n\n   Weight Loss  Shortness of Breath  Wheezing  Swallowing Difficulty  \\\n0            4                    2         2                      3   \n1            3                    7         8                      6   \n2            7                    9         2                      1   \n3            2                    3         1                      4   \n4            2                    4         1                      4   \n\n   Clubbing of Finger Nails  Frequent Cold  Dry Cough  Snoring   Level  \n0                         1              2          3        4     Low  \n1                         2              1          7        2  Medium  \n2                         4              6          7        2    High  \n3                         5              6          7        5    High  \n4                         2              4          2        3    High  \n\n[5 rows x 26 columns]",
      "text/html": "<div>\n<style scoped>\n    .dataframe tbody tr th:only-of-type {\n        vertical-align: middle;\n    }\n\n    .dataframe tbody tr th {\n        vertical-align: top;\n    }\n\n    .dataframe thead th {\n        text-align: right;\n    }\n</style>\n<table border=\"1\" class=\"dataframe\">\n  <thead>\n    <tr style=\"text-align: right;\">\n      <th></th>\n      <th>index</th>\n      <th>Patient Id</th>\n      <th>Age</th>\n      <th>Gender</th>\n      <th>Air Pollution</th>\n      <th>Alcohol use</th>\n      <th>Dust Allergy</th>\n      <th>OccuPational Hazards</th>\n      <th>Genetic Risk</th>\n      <th>chronic Lung Disease</th>\n      <th>...</th>\n      <th>Fatigue</th>\n      <th>Weight Loss</th>\n      <th>Shortness of Breath</th>\n      <th>Wheezing</th>\n      <th>Swallowing Difficulty</th>\n      <th>Clubbing of Finger Nails</th>\n      <th>Frequent Cold</th>\n      <th>Dry Cough</th>\n      <th>Snoring</th>\n      <th>Level</th>\n    </tr>\n  </thead>\n  <tbody>\n    <tr>\n      <th>0</th>\n      <td>0</td>\n      <td>P1</td>\n      <td>33</td>\n      <td>1</td>\n      <td>2</td>\n      <td>4</td>\n      <td>5</td>\n      <td>4</td>\n      <td>3</td>\n      <td>2</td>\n      <td>...</td>\n      <td>3</td>\n      <td>4</td>\n      <td>2</td>\n      <td>2</td>\n      <td>3</td>\n      <td>1</td>\n      <td>2</td>\n      <td>3</td>\n      <td>4</td>\n      <td>Low</td>\n    </tr>\n    <tr>\n      <th>1</th>\n      <td>1</td>\n      <td>P10</td>\n      <td>17</td>\n      <td>1</td>\n      <td>3</td>\n      <td>1</td>\n      <td>5</td>\n      <td>3</td>\n      <td>4</td>\n      <td>2</td>\n      <td>...</td>\n      <td>1</td>\n      <td>3</td>\n      <td>7</td>\n      <td>8</td>\n      <td>6</td>\n      <td>2</td>\n      <td>1</td>\n      <td>7</td>\n      <td>2</td>\n      <td>Medium</td>\n    </tr>\n    <tr>\n      <th>2</th>\n      <td>2</td>\n      <td>P100</td>\n      <td>35</td>\n      <td>1</td>\n      <td>4</td>\n      <td>5</td>\n      <td>6</td>\n      <td>5</td>\n      <td>5</td>\n      <td>4</td>\n      <td>...</td>\n      <td>8</td>\n      <td>7</td>\n      <td>9</td>\n      <td>2</td>\n      <td>1</td>\n      <td>4</td>\n      <td>6</td>\n      <td>7</td>\n      <td>2</td>\n      <td>High</td>\n    </tr>\n    <tr>\n      <th>3</th>\n      <td>3</td>\n      <td>P1000</td>\n      <td>37</td>\n      <td>1</td>\n      <td>7</td>\n      <td>7</td>\n      <td>7</td>\n      <td>7</td>\n      <td>6</td>\n      <td>7</td>\n      <td>...</td>\n      <td>4</td>\n      <td>2</td>\n      <td>3</td>\n      <td>1</td>\n      <td>4</td>\n      <td>5</td>\n      <td>6</td>\n      <td>7</td>\n      <td>5</td>\n      <td>High</td>\n    </tr>\n    <tr>\n      <th>4</th>\n      <td>4</td>\n      <td>P101</td>\n      <td>46</td>\n      <td>1</td>\n      <td>6</td>\n      <td>8</td>\n      <td>7</td>\n      <td>7</td>\n      <td>7</td>\n      <td>6</td>\n      <td>...</td>\n      <td>3</td>\n      <td>2</td>\n      <td>4</td>\n      <td>1</td>\n      <td>4</td>\n      <td>2</td>\n      <td>4</td>\n      <td>2</td>\n      <td>3</td>\n      <td>High</td>\n    </tr>\n  </tbody>\n</table>\n<p>5 rows × 26 columns</p>\n</div>"
     },
     "execution_count": 2,
     "metadata": {},
     "output_type": "execute_result"
    }
   ],
   "source": [
    "dataset = pd.read_csv('liver_cancer.csv')\n",
    "dataset.head()"
   ]
  },
  {
   "cell_type": "code",
   "execution_count": 3,
   "id": "e11940979602d219",
   "metadata": {
    "ExecuteTime": {
     "end_time": "2023-10-04T03:58:46.778255200Z",
     "start_time": "2023-10-04T03:58:46.759841600Z"
    }
   },
   "outputs": [
    {
     "data": {
      "text/plain": "(1000, 26)"
     },
     "execution_count": 3,
     "metadata": {},
     "output_type": "execute_result"
    }
   ],
   "source": [
    "dataset.shape"
   ]
  },
  {
   "cell_type": "markdown",
   "id": "e69a7d4c",
   "metadata": {},
   "source": [
    "## Droping Columns"
   ]
  },
  {
   "cell_type": "code",
   "execution_count": 4,
   "id": "4430252f945487d9",
   "metadata": {
    "ExecuteTime": {
     "end_time": "2023-10-04T03:58:46.840291300Z",
     "start_time": "2023-10-04T03:58:46.775595700Z"
    }
   },
   "outputs": [],
   "source": [
    "columns_to_remove = ['index','Patient Id']\n",
    "df1 = dataset.drop(columns=columns_to_remove,axis=1)"
   ]
  },
  {
   "cell_type": "code",
   "execution_count": 5,
   "id": "15490d29d484014e",
   "metadata": {
    "ExecuteTime": {
     "end_time": "2023-10-04T03:58:46.976836300Z",
     "start_time": "2023-10-04T03:58:46.778255200Z"
    }
   },
   "outputs": [
    {
     "data": {
      "text/plain": "   Age  Gender  Air Pollution  Alcohol use  Dust Allergy  \\\n0   33       1              2            4             5   \n1   17       1              3            1             5   \n2   35       1              4            5             6   \n3   37       1              7            7             7   \n4   46       1              6            8             7   \n\n   OccuPational Hazards  Genetic Risk  chronic Lung Disease  Balanced Diet  \\\n0                     4             3                     2              2   \n1                     3             4                     2              2   \n2                     5             5                     4              6   \n3                     7             6                     7              7   \n4                     7             7                     6              7   \n\n   Obesity  ...  Fatigue  Weight Loss  Shortness of Breath  Wheezing  \\\n0        4  ...        3            4                    2         2   \n1        2  ...        1            3                    7         8   \n2        7  ...        8            7                    9         2   \n3        7  ...        4            2                    3         1   \n4        7  ...        3            2                    4         1   \n\n   Swallowing Difficulty  Clubbing of Finger Nails  Frequent Cold  Dry Cough  \\\n0                      3                         1              2          3   \n1                      6                         2              1          7   \n2                      1                         4              6          7   \n3                      4                         5              6          7   \n4                      4                         2              4          2   \n\n   Snoring   Level  \n0        4     Low  \n1        2  Medium  \n2        2    High  \n3        5    High  \n4        3    High  \n\n[5 rows x 24 columns]",
      "text/html": "<div>\n<style scoped>\n    .dataframe tbody tr th:only-of-type {\n        vertical-align: middle;\n    }\n\n    .dataframe tbody tr th {\n        vertical-align: top;\n    }\n\n    .dataframe thead th {\n        text-align: right;\n    }\n</style>\n<table border=\"1\" class=\"dataframe\">\n  <thead>\n    <tr style=\"text-align: right;\">\n      <th></th>\n      <th>Age</th>\n      <th>Gender</th>\n      <th>Air Pollution</th>\n      <th>Alcohol use</th>\n      <th>Dust Allergy</th>\n      <th>OccuPational Hazards</th>\n      <th>Genetic Risk</th>\n      <th>chronic Lung Disease</th>\n      <th>Balanced Diet</th>\n      <th>Obesity</th>\n      <th>...</th>\n      <th>Fatigue</th>\n      <th>Weight Loss</th>\n      <th>Shortness of Breath</th>\n      <th>Wheezing</th>\n      <th>Swallowing Difficulty</th>\n      <th>Clubbing of Finger Nails</th>\n      <th>Frequent Cold</th>\n      <th>Dry Cough</th>\n      <th>Snoring</th>\n      <th>Level</th>\n    </tr>\n  </thead>\n  <tbody>\n    <tr>\n      <th>0</th>\n      <td>33</td>\n      <td>1</td>\n      <td>2</td>\n      <td>4</td>\n      <td>5</td>\n      <td>4</td>\n      <td>3</td>\n      <td>2</td>\n      <td>2</td>\n      <td>4</td>\n      <td>...</td>\n      <td>3</td>\n      <td>4</td>\n      <td>2</td>\n      <td>2</td>\n      <td>3</td>\n      <td>1</td>\n      <td>2</td>\n      <td>3</td>\n      <td>4</td>\n      <td>Low</td>\n    </tr>\n    <tr>\n      <th>1</th>\n      <td>17</td>\n      <td>1</td>\n      <td>3</td>\n      <td>1</td>\n      <td>5</td>\n      <td>3</td>\n      <td>4</td>\n      <td>2</td>\n      <td>2</td>\n      <td>2</td>\n      <td>...</td>\n      <td>1</td>\n      <td>3</td>\n      <td>7</td>\n      <td>8</td>\n      <td>6</td>\n      <td>2</td>\n      <td>1</td>\n      <td>7</td>\n      <td>2</td>\n      <td>Medium</td>\n    </tr>\n    <tr>\n      <th>2</th>\n      <td>35</td>\n      <td>1</td>\n      <td>4</td>\n      <td>5</td>\n      <td>6</td>\n      <td>5</td>\n      <td>5</td>\n      <td>4</td>\n      <td>6</td>\n      <td>7</td>\n      <td>...</td>\n      <td>8</td>\n      <td>7</td>\n      <td>9</td>\n      <td>2</td>\n      <td>1</td>\n      <td>4</td>\n      <td>6</td>\n      <td>7</td>\n      <td>2</td>\n      <td>High</td>\n    </tr>\n    <tr>\n      <th>3</th>\n      <td>37</td>\n      <td>1</td>\n      <td>7</td>\n      <td>7</td>\n      <td>7</td>\n      <td>7</td>\n      <td>6</td>\n      <td>7</td>\n      <td>7</td>\n      <td>7</td>\n      <td>...</td>\n      <td>4</td>\n      <td>2</td>\n      <td>3</td>\n      <td>1</td>\n      <td>4</td>\n      <td>5</td>\n      <td>6</td>\n      <td>7</td>\n      <td>5</td>\n      <td>High</td>\n    </tr>\n    <tr>\n      <th>4</th>\n      <td>46</td>\n      <td>1</td>\n      <td>6</td>\n      <td>8</td>\n      <td>7</td>\n      <td>7</td>\n      <td>7</td>\n      <td>6</td>\n      <td>7</td>\n      <td>7</td>\n      <td>...</td>\n      <td>3</td>\n      <td>2</td>\n      <td>4</td>\n      <td>1</td>\n      <td>4</td>\n      <td>2</td>\n      <td>4</td>\n      <td>2</td>\n      <td>3</td>\n      <td>High</td>\n    </tr>\n  </tbody>\n</table>\n<p>5 rows × 24 columns</p>\n</div>"
     },
     "execution_count": 5,
     "metadata": {},
     "output_type": "execute_result"
    }
   ],
   "source": [
    "df1.head()"
   ]
  },
  {
   "cell_type": "markdown",
   "id": "d5dc962a",
   "metadata": {},
   "source": [
    "## Label Encoding"
   ]
  },
  {
   "cell_type": "code",
   "execution_count": 6,
   "id": "821c7435",
   "metadata": {
    "ExecuteTime": {
     "end_time": "2023-10-04T03:58:47.514570500Z",
     "start_time": "2023-10-04T03:58:46.822655100Z"
    }
   },
   "outputs": [],
   "source": [
    "from sklearn.preprocessing import LabelEncoder"
   ]
  },
  {
   "cell_type": "code",
   "execution_count": 7,
   "outputs": [],
   "source": [
    "label_encoder = LabelEncoder()\n",
    "df1['Level_encoded'] = label_encoder.fit_transform(df1['Level'])"
   ],
   "metadata": {
    "collapsed": false,
    "ExecuteTime": {
     "end_time": "2023-10-04T03:58:47.514570500Z",
     "start_time": "2023-10-04T03:58:47.336499700Z"
    }
   },
   "id": "6bcf8060345405e5"
  },
  {
   "cell_type": "markdown",
   "source": [
    "## High = 0 Low = 1 Medium = 2"
   ],
   "metadata": {
    "collapsed": false
   },
   "id": "b987efde09e7259"
  },
  {
   "cell_type": "code",
   "execution_count": 8,
   "outputs": [
    {
     "data": {
      "text/plain": "    Age  Gender  Air Pollution  Alcohol use  Dust Allergy  \\\n0    33       1              2            4             5   \n1    17       1              3            1             5   \n2    35       1              4            5             6   \n3    37       1              7            7             7   \n4    46       1              6            8             7   \n5    35       1              4            5             6   \n6    52       2              2            4             5   \n7    28       2              3            1             4   \n8    35       2              4            5             6   \n9    46       1              2            3             4   \n10   44       1              6            7             7   \n11   64       2              6            8             7   \n12   39       2              4            5             6   \n13   34       1              6            7             7   \n14   27       2              3            1             4   \n15   73       1              5            6             6   \n16   17       1              3            1             5   \n17   34       1              6            7             7   \n18   36       1              6            7             7   \n19   14       1              2            4             5   \n20   24       1              6            8             7   \n21   53       2              4            5             6   \n22   62       1              6            8             7   \n23   29       2              6            7             7   \n24   36       1              6            7             7   \n25   65       1              6            8             7   \n26   38       2              2            1             5   \n27   19       1              3            2             4   \n28   33       1              6            7             7   \n29   28       2              1            6             7   \n30   35       2              2            6             2   \n31   42       1              2            4             5   \n32   32       2              1            6             7   \n33   33       1              2            4             5   \n34   25       2              3            1             4   \n35   14       1              2            4             5   \n36   27       2              3            1             4   \n37   28       1              6            7             8   \n38   32       1              2            3             6   \n39   45       2              1            2             4   \n40   27       2              3            1             4   \n41   26       2              2            3             1   \n42   48       1              4            2             3   \n43   17       2              1            2             3   \n44   22       1              2            1             3   \n45   42       1              2            1             2   \n46   24       1              6            8             7   \n47   35       1              1            3             2   \n48   24       2              1            2             2   \n49   38       2              3            2             3   \n\n    OccuPational Hazards  Genetic Risk  chronic Lung Disease  Balanced Diet  \\\n0                      4             3                     2              2   \n1                      3             4                     2              2   \n2                      5             5                     4              6   \n3                      7             6                     7              7   \n4                      7             7                     6              7   \n5                      5             5                     4              6   \n6                      4             3                     2              2   \n7                      3             2                     3              4   \n8                      5             6                     5              5   \n9                      2             4                     3              3   \n10                     7             7                     6              7   \n11                     7             7                     6              7   \n12                     6             5                     4              6   \n13                     7             6                     7              7   \n14                     2             3                     2              3   \n15                     5             6                     5              6   \n16                     3             4                     2              2   \n17                     7             6                     7              7   \n18                     7             7                     7              6   \n19                     6             5                     5              4   \n20                     7             6                     7              7   \n21                     5             5                     4              6   \n22                     7             7                     6              7   \n23                     7             7                     6              7   \n24                     7             7                     7              6   \n25                     7             7                     6              2   \n26                     3             2                     3              2   \n27                     2             3                     2              3   \n28                     7             7                     6              7   \n29                     5             3                     2              6   \n30                     3             6                     6              6   \n31                     6             5                     5              4   \n32                     8             7                     6              7   \n33                     4             3                     2              2   \n34                     3             2                     3              4   \n35                     6             5                     5              4   \n36                     2             3                     2              3   \n37                     7             6                     7              7   \n38                     7             7                     7              7   \n39                     5             6                     5              5   \n40                     3             2                     3              4   \n41                     4             3                     2              3   \n42                     2             1                     2              3   \n43                     4             4                     3              2   \n44                     4             3                     5              3   \n45                     3             4                     3              2   \n46                     7             6                     7              7   \n47                     4             2                     6              2   \n48                     3             2                     4              2   \n49                     2             3                     2              3   \n\n    Obesity  ...  Weight Loss  Shortness of Breath  Wheezing  \\\n0         4  ...            4                    2         2   \n1         2  ...            3                    7         8   \n2         7  ...            7                    9         2   \n3         7  ...            2                    3         1   \n4         7  ...            2                    4         1   \n5         7  ...            7                    9         2   \n6         4  ...            4                    2         2   \n7         3  ...            2                    2         4   \n8         5  ...            4                    3         2   \n9         3  ...            2                    4         6   \n10        7  ...            3                    2         7   \n11        7  ...            6                    5         7   \n12        6  ...            3                    2         4   \n13        7  ...            2                    3         1   \n14        3  ...            2                    3         4   \n15        5  ...            3                    6         2   \n16        2  ...            3                    7         8   \n17        7  ...            2                    3         1   \n18        7  ...            5                    7         6   \n19        6  ...            3                    2         1   \n20        3  ...            2                    5         2   \n21        7  ...            7                    9         2   \n22        7  ...            2                    4         1   \n23        7  ...            7                    6         7   \n24        7  ...            5                    7         6   \n25        4  ...            7                    6         5   \n26        4  ...            7                    2         5   \n27        3  ...            5                    6         5   \n28        7  ...            4                    5         6   \n29        2  ...            3                    7         7   \n30        4  ...            5                    4         6   \n31        6  ...            7                    7         3   \n32        7  ...            2                    6         4   \n33        4  ...            4                    2         2   \n34        3  ...            2                    2         4   \n35        6  ...            3                    2         1   \n36        3  ...            2                    3         4   \n37        2  ...            3                    6         4   \n38        2  ...            1                    3         2   \n39        4  ...            8                    7         3   \n40        3  ...            2                    2         4   \n41        4  ...            2                    3         4   \n42        2  ...            6                    1         2   \n43        1  ...            3                    3         2   \n44        2  ...            2                    1         3   \n45        1  ...            1                    1         2   \n46        3  ...            2                    5         2   \n47        2  ...            2                    2         2   \n48        3  ...            1                    1         2   \n49        2  ...            2                    3         2   \n\n    Swallowing Difficulty  Clubbing of Finger Nails  Frequent Cold  Dry Cough  \\\n0                       3                         1              2          3   \n1                       6                         2              1          7   \n2                       1                         4              6          7   \n3                       4                         5              6          7   \n4                       4                         2              4          2   \n5                       1                         4              6          7   \n6                       3                         1              2          3   \n7                       2                         2              3          4   \n8                       4                         6              2          4   \n9                       5                         4              2          1   \n10                      8                         2              4          5   \n11                      2                         4              3          1   \n12                      3                         1              7          5   \n13                      4                         5              6          7   \n14                      1                         5              2          6   \n15                      1                         2              1          6   \n16                      6                         2              1          7   \n17                      4                         5              6          7   \n18                      7                         8              7          6   \n19                      4                         7              2          1   \n20                      3                         2              1          7   \n21                      1                         4              6          7   \n22                      4                         2              4          2   \n23                      6                         7              2          3   \n24                      7                         8              7          6   \n25                      1                         9              3          4   \n26                      8                         1              3          2   \n27                      5                         4              6          5   \n28                      5                         5              4          6   \n29                      4                         8              7          7   \n30                      5                         4              6          5   \n31                      8                         9              1          6   \n32                      2                         3              1          2   \n33                      3                         1              2          3   \n34                      2                         2              3          4   \n35                      4                         7              2          1   \n36                      1                         5              2          6   \n37                      2                         3              1          2   \n38                      2                         1              2          5   \n39                      8                         3              2          3   \n40                      2                         2              3          4   \n41                      5                         1              2          3   \n42                      4                         2              1          2   \n43                      1                         3              2          1   \n44                      2                         4              2          1   \n45                      1                         2              3          1   \n46                      3                         2              1          7   \n47                      3                         2              1          2   \n48                      3                         4              5          2   \n49                      5                         1              5          1   \n\n    Snoring   Level  Level_encoded  \n0         4     Low              1  \n1         2  Medium              2  \n2         2    High              0  \n3         5    High              0  \n4         3    High              0  \n5         2    High              0  \n6         4     Low              1  \n7         3     Low              1  \n8         1  Medium              2  \n9         5  Medium              2  \n10        3    High              0  \n11        4    High              0  \n12        6  Medium              2  \n13        5    High              0  \n14        2     Low              1  \n15        2  Medium              2  \n16        2  Medium              2  \n17        5    High              0  \n18        2    High              0  \n19        6  Medium              2  \n20        6    High              0  \n21        2    High              0  \n22        3    High              0  \n23        1    High              0  \n24        2    High              0  \n25        2  Medium              2  \n26        3  Medium              2  \n27        4  Medium              2  \n28        5    High              0  \n29        5  Medium              2  \n30        7    High              0  \n31        2    High              0  \n32        1  Medium              2  \n33        4     Low              1  \n34        3     Low              1  \n35        6  Medium              2  \n36        2     Low              1  \n37        1     Low              1  \n38        1     Low              1  \n39        1     Low              1  \n40        3     Low              1  \n41        4     Low              1  \n42        3     Low              1  \n43        1     Low              1  \n44        1     Low              1  \n45        2     Low              1  \n46        6    High              0  \n47        4     Low              1  \n48        1     Low              1  \n49        1     Low              1  \n\n[50 rows x 25 columns]",
      "text/html": "<div>\n<style scoped>\n    .dataframe tbody tr th:only-of-type {\n        vertical-align: middle;\n    }\n\n    .dataframe tbody tr th {\n        vertical-align: top;\n    }\n\n    .dataframe thead th {\n        text-align: right;\n    }\n</style>\n<table border=\"1\" class=\"dataframe\">\n  <thead>\n    <tr style=\"text-align: right;\">\n      <th></th>\n      <th>Age</th>\n      <th>Gender</th>\n      <th>Air Pollution</th>\n      <th>Alcohol use</th>\n      <th>Dust Allergy</th>\n      <th>OccuPational Hazards</th>\n      <th>Genetic Risk</th>\n      <th>chronic Lung Disease</th>\n      <th>Balanced Diet</th>\n      <th>Obesity</th>\n      <th>...</th>\n      <th>Weight Loss</th>\n      <th>Shortness of Breath</th>\n      <th>Wheezing</th>\n      <th>Swallowing Difficulty</th>\n      <th>Clubbing of Finger Nails</th>\n      <th>Frequent Cold</th>\n      <th>Dry Cough</th>\n      <th>Snoring</th>\n      <th>Level</th>\n      <th>Level_encoded</th>\n    </tr>\n  </thead>\n  <tbody>\n    <tr>\n      <th>0</th>\n      <td>33</td>\n      <td>1</td>\n      <td>2</td>\n      <td>4</td>\n      <td>5</td>\n      <td>4</td>\n      <td>3</td>\n      <td>2</td>\n      <td>2</td>\n      <td>4</td>\n      <td>...</td>\n      <td>4</td>\n      <td>2</td>\n      <td>2</td>\n      <td>3</td>\n      <td>1</td>\n      <td>2</td>\n      <td>3</td>\n      <td>4</td>\n      <td>Low</td>\n      <td>1</td>\n    </tr>\n    <tr>\n      <th>1</th>\n      <td>17</td>\n      <td>1</td>\n      <td>3</td>\n      <td>1</td>\n      <td>5</td>\n      <td>3</td>\n      <td>4</td>\n      <td>2</td>\n      <td>2</td>\n      <td>2</td>\n      <td>...</td>\n      <td>3</td>\n      <td>7</td>\n      <td>8</td>\n      <td>6</td>\n      <td>2</td>\n      <td>1</td>\n      <td>7</td>\n      <td>2</td>\n      <td>Medium</td>\n      <td>2</td>\n    </tr>\n    <tr>\n      <th>2</th>\n      <td>35</td>\n      <td>1</td>\n      <td>4</td>\n      <td>5</td>\n      <td>6</td>\n      <td>5</td>\n      <td>5</td>\n      <td>4</td>\n      <td>6</td>\n      <td>7</td>\n      <td>...</td>\n      <td>7</td>\n      <td>9</td>\n      <td>2</td>\n      <td>1</td>\n      <td>4</td>\n      <td>6</td>\n      <td>7</td>\n      <td>2</td>\n      <td>High</td>\n      <td>0</td>\n    </tr>\n    <tr>\n      <th>3</th>\n      <td>37</td>\n      <td>1</td>\n      <td>7</td>\n      <td>7</td>\n      <td>7</td>\n      <td>7</td>\n      <td>6</td>\n      <td>7</td>\n      <td>7</td>\n      <td>7</td>\n      <td>...</td>\n      <td>2</td>\n      <td>3</td>\n      <td>1</td>\n      <td>4</td>\n      <td>5</td>\n      <td>6</td>\n      <td>7</td>\n      <td>5</td>\n      <td>High</td>\n      <td>0</td>\n    </tr>\n    <tr>\n      <th>4</th>\n      <td>46</td>\n      <td>1</td>\n      <td>6</td>\n      <td>8</td>\n      <td>7</td>\n      <td>7</td>\n      <td>7</td>\n      <td>6</td>\n      <td>7</td>\n      <td>7</td>\n      <td>...</td>\n      <td>2</td>\n      <td>4</td>\n      <td>1</td>\n      <td>4</td>\n      <td>2</td>\n      <td>4</td>\n      <td>2</td>\n      <td>3</td>\n      <td>High</td>\n      <td>0</td>\n    </tr>\n    <tr>\n      <th>5</th>\n      <td>35</td>\n      <td>1</td>\n      <td>4</td>\n      <td>5</td>\n      <td>6</td>\n      <td>5</td>\n      <td>5</td>\n      <td>4</td>\n      <td>6</td>\n      <td>7</td>\n      <td>...</td>\n      <td>7</td>\n      <td>9</td>\n      <td>2</td>\n      <td>1</td>\n      <td>4</td>\n      <td>6</td>\n      <td>7</td>\n      <td>2</td>\n      <td>High</td>\n      <td>0</td>\n    </tr>\n    <tr>\n      <th>6</th>\n      <td>52</td>\n      <td>2</td>\n      <td>2</td>\n      <td>4</td>\n      <td>5</td>\n      <td>4</td>\n      <td>3</td>\n      <td>2</td>\n      <td>2</td>\n      <td>4</td>\n      <td>...</td>\n      <td>4</td>\n      <td>2</td>\n      <td>2</td>\n      <td>3</td>\n      <td>1</td>\n      <td>2</td>\n      <td>3</td>\n      <td>4</td>\n      <td>Low</td>\n      <td>1</td>\n    </tr>\n    <tr>\n      <th>7</th>\n      <td>28</td>\n      <td>2</td>\n      <td>3</td>\n      <td>1</td>\n      <td>4</td>\n      <td>3</td>\n      <td>2</td>\n      <td>3</td>\n      <td>4</td>\n      <td>3</td>\n      <td>...</td>\n      <td>2</td>\n      <td>2</td>\n      <td>4</td>\n      <td>2</td>\n      <td>2</td>\n      <td>3</td>\n      <td>4</td>\n      <td>3</td>\n      <td>Low</td>\n      <td>1</td>\n    </tr>\n    <tr>\n      <th>8</th>\n      <td>35</td>\n      <td>2</td>\n      <td>4</td>\n      <td>5</td>\n      <td>6</td>\n      <td>5</td>\n      <td>6</td>\n      <td>5</td>\n      <td>5</td>\n      <td>5</td>\n      <td>...</td>\n      <td>4</td>\n      <td>3</td>\n      <td>2</td>\n      <td>4</td>\n      <td>6</td>\n      <td>2</td>\n      <td>4</td>\n      <td>1</td>\n      <td>Medium</td>\n      <td>2</td>\n    </tr>\n    <tr>\n      <th>9</th>\n      <td>46</td>\n      <td>1</td>\n      <td>2</td>\n      <td>3</td>\n      <td>4</td>\n      <td>2</td>\n      <td>4</td>\n      <td>3</td>\n      <td>3</td>\n      <td>3</td>\n      <td>...</td>\n      <td>2</td>\n      <td>4</td>\n      <td>6</td>\n      <td>5</td>\n      <td>4</td>\n      <td>2</td>\n      <td>1</td>\n      <td>5</td>\n      <td>Medium</td>\n      <td>2</td>\n    </tr>\n    <tr>\n      <th>10</th>\n      <td>44</td>\n      <td>1</td>\n      <td>6</td>\n      <td>7</td>\n      <td>7</td>\n      <td>7</td>\n      <td>7</td>\n      <td>6</td>\n      <td>7</td>\n      <td>7</td>\n      <td>...</td>\n      <td>3</td>\n      <td>2</td>\n      <td>7</td>\n      <td>8</td>\n      <td>2</td>\n      <td>4</td>\n      <td>5</td>\n      <td>3</td>\n      <td>High</td>\n      <td>0</td>\n    </tr>\n    <tr>\n      <th>11</th>\n      <td>64</td>\n      <td>2</td>\n      <td>6</td>\n      <td>8</td>\n      <td>7</td>\n      <td>7</td>\n      <td>7</td>\n      <td>6</td>\n      <td>7</td>\n      <td>7</td>\n      <td>...</td>\n      <td>6</td>\n      <td>5</td>\n      <td>7</td>\n      <td>2</td>\n      <td>4</td>\n      <td>3</td>\n      <td>1</td>\n      <td>4</td>\n      <td>High</td>\n      <td>0</td>\n    </tr>\n    <tr>\n      <th>12</th>\n      <td>39</td>\n      <td>2</td>\n      <td>4</td>\n      <td>5</td>\n      <td>6</td>\n      <td>6</td>\n      <td>5</td>\n      <td>4</td>\n      <td>6</td>\n      <td>6</td>\n      <td>...</td>\n      <td>3</td>\n      <td>2</td>\n      <td>4</td>\n      <td>3</td>\n      <td>1</td>\n      <td>7</td>\n      <td>5</td>\n      <td>6</td>\n      <td>Medium</td>\n      <td>2</td>\n    </tr>\n    <tr>\n      <th>13</th>\n      <td>34</td>\n      <td>1</td>\n      <td>6</td>\n      <td>7</td>\n      <td>7</td>\n      <td>7</td>\n      <td>6</td>\n      <td>7</td>\n      <td>7</td>\n      <td>7</td>\n      <td>...</td>\n      <td>2</td>\n      <td>3</td>\n      <td>1</td>\n      <td>4</td>\n      <td>5</td>\n      <td>6</td>\n      <td>7</td>\n      <td>5</td>\n      <td>High</td>\n      <td>0</td>\n    </tr>\n    <tr>\n      <th>14</th>\n      <td>27</td>\n      <td>2</td>\n      <td>3</td>\n      <td>1</td>\n      <td>4</td>\n      <td>2</td>\n      <td>3</td>\n      <td>2</td>\n      <td>3</td>\n      <td>3</td>\n      <td>...</td>\n      <td>2</td>\n      <td>3</td>\n      <td>4</td>\n      <td>1</td>\n      <td>5</td>\n      <td>2</td>\n      <td>6</td>\n      <td>2</td>\n      <td>Low</td>\n      <td>1</td>\n    </tr>\n    <tr>\n      <th>15</th>\n      <td>73</td>\n      <td>1</td>\n      <td>5</td>\n      <td>6</td>\n      <td>6</td>\n      <td>5</td>\n      <td>6</td>\n      <td>5</td>\n      <td>6</td>\n      <td>5</td>\n      <td>...</td>\n      <td>3</td>\n      <td>6</td>\n      <td>2</td>\n      <td>1</td>\n      <td>2</td>\n      <td>1</td>\n      <td>6</td>\n      <td>2</td>\n      <td>Medium</td>\n      <td>2</td>\n    </tr>\n    <tr>\n      <th>16</th>\n      <td>17</td>\n      <td>1</td>\n      <td>3</td>\n      <td>1</td>\n      <td>5</td>\n      <td>3</td>\n      <td>4</td>\n      <td>2</td>\n      <td>2</td>\n      <td>2</td>\n      <td>...</td>\n      <td>3</td>\n      <td>7</td>\n      <td>8</td>\n      <td>6</td>\n      <td>2</td>\n      <td>1</td>\n      <td>7</td>\n      <td>2</td>\n      <td>Medium</td>\n      <td>2</td>\n    </tr>\n    <tr>\n      <th>17</th>\n      <td>34</td>\n      <td>1</td>\n      <td>6</td>\n      <td>7</td>\n      <td>7</td>\n      <td>7</td>\n      <td>6</td>\n      <td>7</td>\n      <td>7</td>\n      <td>7</td>\n      <td>...</td>\n      <td>2</td>\n      <td>3</td>\n      <td>1</td>\n      <td>4</td>\n      <td>5</td>\n      <td>6</td>\n      <td>7</td>\n      <td>5</td>\n      <td>High</td>\n      <td>0</td>\n    </tr>\n    <tr>\n      <th>18</th>\n      <td>36</td>\n      <td>1</td>\n      <td>6</td>\n      <td>7</td>\n      <td>7</td>\n      <td>7</td>\n      <td>7</td>\n      <td>7</td>\n      <td>6</td>\n      <td>7</td>\n      <td>...</td>\n      <td>5</td>\n      <td>7</td>\n      <td>6</td>\n      <td>7</td>\n      <td>8</td>\n      <td>7</td>\n      <td>6</td>\n      <td>2</td>\n      <td>High</td>\n      <td>0</td>\n    </tr>\n    <tr>\n      <th>19</th>\n      <td>14</td>\n      <td>1</td>\n      <td>2</td>\n      <td>4</td>\n      <td>5</td>\n      <td>6</td>\n      <td>5</td>\n      <td>5</td>\n      <td>4</td>\n      <td>6</td>\n      <td>...</td>\n      <td>3</td>\n      <td>2</td>\n      <td>1</td>\n      <td>4</td>\n      <td>7</td>\n      <td>2</td>\n      <td>1</td>\n      <td>6</td>\n      <td>Medium</td>\n      <td>2</td>\n    </tr>\n    <tr>\n      <th>20</th>\n      <td>24</td>\n      <td>1</td>\n      <td>6</td>\n      <td>8</td>\n      <td>7</td>\n      <td>7</td>\n      <td>6</td>\n      <td>7</td>\n      <td>7</td>\n      <td>3</td>\n      <td>...</td>\n      <td>2</td>\n      <td>5</td>\n      <td>2</td>\n      <td>3</td>\n      <td>2</td>\n      <td>1</td>\n      <td>7</td>\n      <td>6</td>\n      <td>High</td>\n      <td>0</td>\n    </tr>\n    <tr>\n      <th>21</th>\n      <td>53</td>\n      <td>2</td>\n      <td>4</td>\n      <td>5</td>\n      <td>6</td>\n      <td>5</td>\n      <td>5</td>\n      <td>4</td>\n      <td>6</td>\n      <td>7</td>\n      <td>...</td>\n      <td>7</td>\n      <td>9</td>\n      <td>2</td>\n      <td>1</td>\n      <td>4</td>\n      <td>6</td>\n      <td>7</td>\n      <td>2</td>\n      <td>High</td>\n      <td>0</td>\n    </tr>\n    <tr>\n      <th>22</th>\n      <td>62</td>\n      <td>1</td>\n      <td>6</td>\n      <td>8</td>\n      <td>7</td>\n      <td>7</td>\n      <td>7</td>\n      <td>6</td>\n      <td>7</td>\n      <td>7</td>\n      <td>...</td>\n      <td>2</td>\n      <td>4</td>\n      <td>1</td>\n      <td>4</td>\n      <td>2</td>\n      <td>4</td>\n      <td>2</td>\n      <td>3</td>\n      <td>High</td>\n      <td>0</td>\n    </tr>\n    <tr>\n      <th>23</th>\n      <td>29</td>\n      <td>2</td>\n      <td>6</td>\n      <td>7</td>\n      <td>7</td>\n      <td>7</td>\n      <td>7</td>\n      <td>6</td>\n      <td>7</td>\n      <td>7</td>\n      <td>...</td>\n      <td>7</td>\n      <td>6</td>\n      <td>7</td>\n      <td>6</td>\n      <td>7</td>\n      <td>2</td>\n      <td>3</td>\n      <td>1</td>\n      <td>High</td>\n      <td>0</td>\n    </tr>\n    <tr>\n      <th>24</th>\n      <td>36</td>\n      <td>1</td>\n      <td>6</td>\n      <td>7</td>\n      <td>7</td>\n      <td>7</td>\n      <td>7</td>\n      <td>7</td>\n      <td>6</td>\n      <td>7</td>\n      <td>...</td>\n      <td>5</td>\n      <td>7</td>\n      <td>6</td>\n      <td>7</td>\n      <td>8</td>\n      <td>7</td>\n      <td>6</td>\n      <td>2</td>\n      <td>High</td>\n      <td>0</td>\n    </tr>\n    <tr>\n      <th>25</th>\n      <td>65</td>\n      <td>1</td>\n      <td>6</td>\n      <td>8</td>\n      <td>7</td>\n      <td>7</td>\n      <td>7</td>\n      <td>6</td>\n      <td>2</td>\n      <td>4</td>\n      <td>...</td>\n      <td>7</td>\n      <td>6</td>\n      <td>5</td>\n      <td>1</td>\n      <td>9</td>\n      <td>3</td>\n      <td>4</td>\n      <td>2</td>\n      <td>Medium</td>\n      <td>2</td>\n    </tr>\n    <tr>\n      <th>26</th>\n      <td>38</td>\n      <td>2</td>\n      <td>2</td>\n      <td>1</td>\n      <td>5</td>\n      <td>3</td>\n      <td>2</td>\n      <td>3</td>\n      <td>2</td>\n      <td>4</td>\n      <td>...</td>\n      <td>7</td>\n      <td>2</td>\n      <td>5</td>\n      <td>8</td>\n      <td>1</td>\n      <td>3</td>\n      <td>2</td>\n      <td>3</td>\n      <td>Medium</td>\n      <td>2</td>\n    </tr>\n    <tr>\n      <th>27</th>\n      <td>19</td>\n      <td>1</td>\n      <td>3</td>\n      <td>2</td>\n      <td>4</td>\n      <td>2</td>\n      <td>3</td>\n      <td>2</td>\n      <td>3</td>\n      <td>3</td>\n      <td>...</td>\n      <td>5</td>\n      <td>6</td>\n      <td>5</td>\n      <td>5</td>\n      <td>4</td>\n      <td>6</td>\n      <td>5</td>\n      <td>4</td>\n      <td>Medium</td>\n      <td>2</td>\n    </tr>\n    <tr>\n      <th>28</th>\n      <td>33</td>\n      <td>1</td>\n      <td>6</td>\n      <td>7</td>\n      <td>7</td>\n      <td>7</td>\n      <td>7</td>\n      <td>6</td>\n      <td>7</td>\n      <td>7</td>\n      <td>...</td>\n      <td>4</td>\n      <td>5</td>\n      <td>6</td>\n      <td>5</td>\n      <td>5</td>\n      <td>4</td>\n      <td>6</td>\n      <td>5</td>\n      <td>High</td>\n      <td>0</td>\n    </tr>\n    <tr>\n      <th>29</th>\n      <td>28</td>\n      <td>2</td>\n      <td>1</td>\n      <td>6</td>\n      <td>7</td>\n      <td>5</td>\n      <td>3</td>\n      <td>2</td>\n      <td>6</td>\n      <td>2</td>\n      <td>...</td>\n      <td>3</td>\n      <td>7</td>\n      <td>7</td>\n      <td>4</td>\n      <td>8</td>\n      <td>7</td>\n      <td>7</td>\n      <td>5</td>\n      <td>Medium</td>\n      <td>2</td>\n    </tr>\n    <tr>\n      <th>30</th>\n      <td>35</td>\n      <td>2</td>\n      <td>2</td>\n      <td>6</td>\n      <td>2</td>\n      <td>3</td>\n      <td>6</td>\n      <td>6</td>\n      <td>6</td>\n      <td>4</td>\n      <td>...</td>\n      <td>5</td>\n      <td>4</td>\n      <td>6</td>\n      <td>5</td>\n      <td>4</td>\n      <td>6</td>\n      <td>5</td>\n      <td>7</td>\n      <td>High</td>\n      <td>0</td>\n    </tr>\n    <tr>\n      <th>31</th>\n      <td>42</td>\n      <td>1</td>\n      <td>2</td>\n      <td>4</td>\n      <td>5</td>\n      <td>6</td>\n      <td>5</td>\n      <td>5</td>\n      <td>4</td>\n      <td>6</td>\n      <td>...</td>\n      <td>7</td>\n      <td>7</td>\n      <td>3</td>\n      <td>8</td>\n      <td>9</td>\n      <td>1</td>\n      <td>6</td>\n      <td>2</td>\n      <td>High</td>\n      <td>0</td>\n    </tr>\n    <tr>\n      <th>32</th>\n      <td>32</td>\n      <td>2</td>\n      <td>1</td>\n      <td>6</td>\n      <td>7</td>\n      <td>8</td>\n      <td>7</td>\n      <td>6</td>\n      <td>7</td>\n      <td>7</td>\n      <td>...</td>\n      <td>2</td>\n      <td>6</td>\n      <td>4</td>\n      <td>2</td>\n      <td>3</td>\n      <td>1</td>\n      <td>2</td>\n      <td>1</td>\n      <td>Medium</td>\n      <td>2</td>\n    </tr>\n    <tr>\n      <th>33</th>\n      <td>33</td>\n      <td>1</td>\n      <td>2</td>\n      <td>4</td>\n      <td>5</td>\n      <td>4</td>\n      <td>3</td>\n      <td>2</td>\n      <td>2</td>\n      <td>4</td>\n      <td>...</td>\n      <td>4</td>\n      <td>2</td>\n      <td>2</td>\n      <td>3</td>\n      <td>1</td>\n      <td>2</td>\n      <td>3</td>\n      <td>4</td>\n      <td>Low</td>\n      <td>1</td>\n    </tr>\n    <tr>\n      <th>34</th>\n      <td>25</td>\n      <td>2</td>\n      <td>3</td>\n      <td>1</td>\n      <td>4</td>\n      <td>3</td>\n      <td>2</td>\n      <td>3</td>\n      <td>4</td>\n      <td>3</td>\n      <td>...</td>\n      <td>2</td>\n      <td>2</td>\n      <td>4</td>\n      <td>2</td>\n      <td>2</td>\n      <td>3</td>\n      <td>4</td>\n      <td>3</td>\n      <td>Low</td>\n      <td>1</td>\n    </tr>\n    <tr>\n      <th>35</th>\n      <td>14</td>\n      <td>1</td>\n      <td>2</td>\n      <td>4</td>\n      <td>5</td>\n      <td>6</td>\n      <td>5</td>\n      <td>5</td>\n      <td>4</td>\n      <td>6</td>\n      <td>...</td>\n      <td>3</td>\n      <td>2</td>\n      <td>1</td>\n      <td>4</td>\n      <td>7</td>\n      <td>2</td>\n      <td>1</td>\n      <td>6</td>\n      <td>Medium</td>\n      <td>2</td>\n    </tr>\n    <tr>\n      <th>36</th>\n      <td>27</td>\n      <td>2</td>\n      <td>3</td>\n      <td>1</td>\n      <td>4</td>\n      <td>2</td>\n      <td>3</td>\n      <td>2</td>\n      <td>3</td>\n      <td>3</td>\n      <td>...</td>\n      <td>2</td>\n      <td>3</td>\n      <td>4</td>\n      <td>1</td>\n      <td>5</td>\n      <td>2</td>\n      <td>6</td>\n      <td>2</td>\n      <td>Low</td>\n      <td>1</td>\n    </tr>\n    <tr>\n      <th>37</th>\n      <td>28</td>\n      <td>1</td>\n      <td>6</td>\n      <td>7</td>\n      <td>8</td>\n      <td>7</td>\n      <td>6</td>\n      <td>7</td>\n      <td>7</td>\n      <td>2</td>\n      <td>...</td>\n      <td>3</td>\n      <td>6</td>\n      <td>4</td>\n      <td>2</td>\n      <td>3</td>\n      <td>1</td>\n      <td>2</td>\n      <td>1</td>\n      <td>Low</td>\n      <td>1</td>\n    </tr>\n    <tr>\n      <th>38</th>\n      <td>32</td>\n      <td>1</td>\n      <td>2</td>\n      <td>3</td>\n      <td>6</td>\n      <td>7</td>\n      <td>7</td>\n      <td>7</td>\n      <td>7</td>\n      <td>2</td>\n      <td>...</td>\n      <td>1</td>\n      <td>3</td>\n      <td>2</td>\n      <td>2</td>\n      <td>1</td>\n      <td>2</td>\n      <td>5</td>\n      <td>1</td>\n      <td>Low</td>\n      <td>1</td>\n    </tr>\n    <tr>\n      <th>39</th>\n      <td>45</td>\n      <td>2</td>\n      <td>1</td>\n      <td>2</td>\n      <td>4</td>\n      <td>5</td>\n      <td>6</td>\n      <td>5</td>\n      <td>5</td>\n      <td>4</td>\n      <td>...</td>\n      <td>8</td>\n      <td>7</td>\n      <td>3</td>\n      <td>8</td>\n      <td>3</td>\n      <td>2</td>\n      <td>3</td>\n      <td>1</td>\n      <td>Low</td>\n      <td>1</td>\n    </tr>\n    <tr>\n      <th>40</th>\n      <td>27</td>\n      <td>2</td>\n      <td>3</td>\n      <td>1</td>\n      <td>4</td>\n      <td>3</td>\n      <td>2</td>\n      <td>3</td>\n      <td>4</td>\n      <td>3</td>\n      <td>...</td>\n      <td>2</td>\n      <td>2</td>\n      <td>4</td>\n      <td>2</td>\n      <td>2</td>\n      <td>3</td>\n      <td>4</td>\n      <td>3</td>\n      <td>Low</td>\n      <td>1</td>\n    </tr>\n    <tr>\n      <th>41</th>\n      <td>26</td>\n      <td>2</td>\n      <td>2</td>\n      <td>3</td>\n      <td>1</td>\n      <td>4</td>\n      <td>3</td>\n      <td>2</td>\n      <td>3</td>\n      <td>4</td>\n      <td>...</td>\n      <td>2</td>\n      <td>3</td>\n      <td>4</td>\n      <td>5</td>\n      <td>1</td>\n      <td>2</td>\n      <td>3</td>\n      <td>4</td>\n      <td>Low</td>\n      <td>1</td>\n    </tr>\n    <tr>\n      <th>42</th>\n      <td>48</td>\n      <td>1</td>\n      <td>4</td>\n      <td>2</td>\n      <td>3</td>\n      <td>2</td>\n      <td>1</td>\n      <td>2</td>\n      <td>3</td>\n      <td>2</td>\n      <td>...</td>\n      <td>6</td>\n      <td>1</td>\n      <td>2</td>\n      <td>4</td>\n      <td>2</td>\n      <td>1</td>\n      <td>2</td>\n      <td>3</td>\n      <td>Low</td>\n      <td>1</td>\n    </tr>\n    <tr>\n      <th>43</th>\n      <td>17</td>\n      <td>2</td>\n      <td>1</td>\n      <td>2</td>\n      <td>3</td>\n      <td>4</td>\n      <td>4</td>\n      <td>3</td>\n      <td>2</td>\n      <td>1</td>\n      <td>...</td>\n      <td>3</td>\n      <td>3</td>\n      <td>2</td>\n      <td>1</td>\n      <td>3</td>\n      <td>2</td>\n      <td>1</td>\n      <td>1</td>\n      <td>Low</td>\n      <td>1</td>\n    </tr>\n    <tr>\n      <th>44</th>\n      <td>22</td>\n      <td>1</td>\n      <td>2</td>\n      <td>1</td>\n      <td>3</td>\n      <td>4</td>\n      <td>3</td>\n      <td>5</td>\n      <td>3</td>\n      <td>2</td>\n      <td>...</td>\n      <td>2</td>\n      <td>1</td>\n      <td>3</td>\n      <td>2</td>\n      <td>4</td>\n      <td>2</td>\n      <td>1</td>\n      <td>1</td>\n      <td>Low</td>\n      <td>1</td>\n    </tr>\n    <tr>\n      <th>45</th>\n      <td>42</td>\n      <td>1</td>\n      <td>2</td>\n      <td>1</td>\n      <td>2</td>\n      <td>3</td>\n      <td>4</td>\n      <td>3</td>\n      <td>2</td>\n      <td>1</td>\n      <td>...</td>\n      <td>1</td>\n      <td>1</td>\n      <td>2</td>\n      <td>1</td>\n      <td>2</td>\n      <td>3</td>\n      <td>1</td>\n      <td>2</td>\n      <td>Low</td>\n      <td>1</td>\n    </tr>\n    <tr>\n      <th>46</th>\n      <td>24</td>\n      <td>1</td>\n      <td>6</td>\n      <td>8</td>\n      <td>7</td>\n      <td>7</td>\n      <td>6</td>\n      <td>7</td>\n      <td>7</td>\n      <td>3</td>\n      <td>...</td>\n      <td>2</td>\n      <td>5</td>\n      <td>2</td>\n      <td>3</td>\n      <td>2</td>\n      <td>1</td>\n      <td>7</td>\n      <td>6</td>\n      <td>High</td>\n      <td>0</td>\n    </tr>\n    <tr>\n      <th>47</th>\n      <td>35</td>\n      <td>1</td>\n      <td>1</td>\n      <td>3</td>\n      <td>2</td>\n      <td>4</td>\n      <td>2</td>\n      <td>6</td>\n      <td>2</td>\n      <td>2</td>\n      <td>...</td>\n      <td>2</td>\n      <td>2</td>\n      <td>2</td>\n      <td>3</td>\n      <td>2</td>\n      <td>1</td>\n      <td>2</td>\n      <td>4</td>\n      <td>Low</td>\n      <td>1</td>\n    </tr>\n    <tr>\n      <th>48</th>\n      <td>24</td>\n      <td>2</td>\n      <td>1</td>\n      <td>2</td>\n      <td>2</td>\n      <td>3</td>\n      <td>2</td>\n      <td>4</td>\n      <td>2</td>\n      <td>3</td>\n      <td>...</td>\n      <td>1</td>\n      <td>1</td>\n      <td>2</td>\n      <td>3</td>\n      <td>4</td>\n      <td>5</td>\n      <td>2</td>\n      <td>1</td>\n      <td>Low</td>\n      <td>1</td>\n    </tr>\n    <tr>\n      <th>49</th>\n      <td>38</td>\n      <td>2</td>\n      <td>3</td>\n      <td>2</td>\n      <td>3</td>\n      <td>2</td>\n      <td>3</td>\n      <td>2</td>\n      <td>3</td>\n      <td>2</td>\n      <td>...</td>\n      <td>2</td>\n      <td>3</td>\n      <td>2</td>\n      <td>5</td>\n      <td>1</td>\n      <td>5</td>\n      <td>1</td>\n      <td>1</td>\n      <td>Low</td>\n      <td>1</td>\n    </tr>\n  </tbody>\n</table>\n<p>50 rows × 25 columns</p>\n</div>"
     },
     "execution_count": 8,
     "metadata": {},
     "output_type": "execute_result"
    }
   ],
   "source": [
    "df1.head(50)"
   ],
   "metadata": {
    "collapsed": false,
    "ExecuteTime": {
     "end_time": "2023-10-04T03:58:47.538780600Z",
     "start_time": "2023-10-04T03:58:47.347615700Z"
    }
   },
   "id": "b2ebb8283c27a9a5"
  },
  {
   "cell_type": "markdown",
   "source": [
    "## SPliting Dataset"
   ],
   "metadata": {
    "collapsed": false
   },
   "id": "7b2f6408d0facc7b"
  },
  {
   "cell_type": "code",
   "execution_count": 9,
   "outputs": [],
   "source": [
    "from sklearn.model_selection import train_test_split"
   ],
   "metadata": {
    "collapsed": false,
    "ExecuteTime": {
     "end_time": "2023-10-04T03:58:47.697280Z",
     "start_time": "2023-10-04T03:58:47.415799300Z"
    }
   },
   "id": "6f5228c6778e4aa3"
  },
  {
   "cell_type": "code",
   "execution_count": 10,
   "outputs": [],
   "source": [
    "train,test = train_test_split(df1,test_size=.01)"
   ],
   "metadata": {
    "collapsed": false,
    "ExecuteTime": {
     "end_time": "2023-10-04T03:58:47.738041Z",
     "start_time": "2023-10-04T03:58:47.627683500Z"
    }
   },
   "id": "28de251c769a4416"
  },
  {
   "cell_type": "code",
   "execution_count": 11,
   "outputs": [
    {
     "data": {
      "text/plain": "(10, 25)"
     },
     "execution_count": 11,
     "metadata": {},
     "output_type": "execute_result"
    }
   ],
   "source": [
    "test.shape"
   ],
   "metadata": {
    "collapsed": false,
    "ExecuteTime": {
     "end_time": "2023-10-04T03:58:47.809406Z",
     "start_time": "2023-10-04T03:58:47.643579700Z"
    }
   },
   "id": "744d84827d9b8506"
  },
  {
   "cell_type": "markdown",
   "source": [
    "## EDA\n"
   ],
   "metadata": {
    "collapsed": false
   },
   "id": "2898fb1e639269b2"
  },
  {
   "cell_type": "code",
   "execution_count": 2,
   "outputs": [],
   "source": [
    "import dtale"
   ],
   "metadata": {
    "collapsed": false,
    "ExecuteTime": {
     "end_time": "2023-10-05T04:57:43.740715400Z",
     "start_time": "2023-10-05T04:57:36.916759700Z"
    }
   },
   "id": "7b79f27e995df3d7"
  },
  {
   "cell_type": "code",
   "execution_count": 3,
   "outputs": [
    {
     "ename": "NameError",
     "evalue": "name 'df1' is not defined",
     "output_type": "error",
     "traceback": [
      "\u001B[1;31m---------------------------------------------------------------------------\u001B[0m",
      "\u001B[1;31mNameError\u001B[0m                                 Traceback (most recent call last)",
      "Cell \u001B[1;32mIn[3], line 1\u001B[0m\n\u001B[1;32m----> 1\u001B[0m dtale\u001B[38;5;241m.\u001B[39mshow(df1)\n",
      "\u001B[1;31mNameError\u001B[0m: name 'df1' is not defined"
     ]
    }
   ],
   "source": [
    "dtale.show(df1)"
   ],
   "metadata": {
    "collapsed": false,
    "ExecuteTime": {
     "end_time": "2023-10-05T04:57:43.794188Z",
     "start_time": "2023-10-05T04:57:43.740715400Z"
    }
   },
   "id": "2470681daef665f6"
  },
  {
   "cell_type": "code",
   "execution_count": 13,
   "outputs": [],
   "source": [],
   "metadata": {
    "collapsed": false,
    "ExecuteTime": {
     "end_time": "2023-10-04T03:58:54.109908800Z",
     "start_time": "2023-10-04T03:58:54.108394700Z"
    }
   },
   "id": "bf67b08d4d00c4a3"
  }
 ],
 "metadata": {
  "kernelspec": {
   "display_name": "Python 3 (ipykernel)",
   "language": "python",
   "name": "python3"
  },
  "language_info": {
   "codemirror_mode": {
    "name": "ipython",
    "version": 3
   },
   "file_extension": ".py",
   "mimetype": "text/x-python",
   "name": "python",
   "nbconvert_exporter": "python",
   "pygments_lexer": "ipython3",
   "version": "3.11.4"
  }
 },
 "nbformat": 4,
 "nbformat_minor": 5
}
